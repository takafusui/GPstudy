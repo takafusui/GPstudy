{
 "cells": [
  {
   "cell_type": "markdown",
   "metadata": {},
   "source": [
    "# Neoclassical growth model in discrete time: Closed Form\n",
    "## Greenwood-Hercowitz-Huffman preference\n",
    "\n",
    "###### First written: December 7, 2019\n",
    "###### Update: December 18, 2019, February 15, 2020\n",
    "\n",
    "## Key numerical packages\n",
    "- Gaussian process: `GPyTorch`\n",
    "- Optimizer: `IPOPT` + `pyipopt`\n",
    "- Automatic gradient: `PyTorch`\n",
    "- Z-score (or standardization)\n",
    "\n",
    "## Introduction\n",
    "\n",
    "There are two well known closed form solutions for the neoclassical growth model in discrete time. The first, and might be the most well-known example, is discussed, for instance, in Ljungqvist and Sargent (2018). In this notebook, we aim to solve the second example where the social planner maximizes his infinite time horizon utility subject to the budget constraint with full capital depreciation.\n",
    "\n",
    "\\begin{align}\n",
    "& \\max \\sum_{t=0}^{\\infty}\\beta^{t}\\ln \\left(C_{t} -\\psi N_{t}^{\\theta}\\right) \\\\\n",
    "\\text{s.t.} \\quad & K_{t+1} + C_{t} \\leq A K_{t}^{\\alpha} N_{t}^{1-\\alpha}\n",
    "\\end{align}\n",
    "\n",
    "where the utility function follows the classical Greenwood–Hercowitz–Huffman preference (Greenwood et al. (1988)).\n",
    "\n",
    "The above neoclassical growth model is known to have a closed form solution for the capital stock in the next period as well as the optimal consumption policy.\n",
    "\n",
    "\\begin{align}\n",
    "& K_{t+1} = \\alpha \\beta A K_{t}^{\\alpha} N_{t}^{1-\\alpha} \\\\\n",
    "& C_{t} = \\left(1-\\alpha \\beta \\right) A K_{t}^{\\alpha} N_{t}^{1-\\alpha}\n",
    "\\end{align}\n",
    "\n",
    "The aim of this notebook is to numerically approximate the above optimal policy functions by using the Gaussian process regression based on the `GPyTorch` library."
   ]
  },
  {
   "cell_type": "markdown",
   "metadata": {},
   "source": [
    "## Analytical solutions\n",
    "\n",
    "We compute the stationary point at first, then we plot the optimal policy functions.\n",
    "Before doing so, we import some numerical libraries and define economic parameters. Note that we use the `GPyTorch` library to regress the optimal policy functions based on the Gaussian process and `IPOPT` to solve the system of non-linear equations."
   ]
  },
  {
   "cell_type": "code",
   "execution_count": 1,
   "metadata": {},
   "outputs": [
    {
     "name": "stdout",
     "output_type": "stream",
     "text": [
      "PyTorch version is 1.4.0\n",
      "GPyTorch version is 1.0.1\n"
     ]
    }
   ],
   "source": [
    "import sys\n",
    "import warnings\n",
    "import numpy as np\n",
    "import torch\n",
    "import gpytorch\n",
    "import pyipopt\n",
    "from scipy.optimize import root  # Find the steady state\n",
    "# plot\n",
    "import matplotlib.pyplot as plt\n",
    "from matplotlib import rc\n",
    "# Use TeX font\n",
    "rc('font', **{'family': 'sans-serif', 'serif': ['Helvetica']})\n",
    "rc('text', usetex=True)\n",
    "plt.rcParams[\"font.size\"] = 15\n",
    "\n",
    "np.random.seed(123)\n",
    "\n",
    "print(\"PyTorch version is {}\".format(torch.__version__))\n",
    "print(\"GPyTorch version is {}\".format(gpytorch.__version__))\n",
    "\n",
    "%matplotlib inline\n",
    "%load_ext autoreload\n",
    "%autoreload 2"
   ]
  },
  {
   "cell_type": "code",
   "execution_count": 2,
   "metadata": {
    "code_folding": []
   },
   "outputs": [],
   "source": [
    "# --------------------------------------------------------------------------- #\n",
    "# Parameter setting\n",
    "# No TFP shock, deterministic model\n",
    "# --------------------------------------------------------------------------- #\n",
    "A = 1  # Technology level\n",
    "alpha = 0.36  # Capital share in the Cobb-Douglas production function\n",
    "beta = 0.95  # Discount factor\n",
    "psi = 0.25  # Coefficient of leisure in the utility function\n",
    "theta = 1.5  # Elasticity of leisure in the utility function"
   ]
  },
  {
   "cell_type": "markdown",
   "metadata": {},
   "source": [
    "We compute at first the analytical policy functions of the given model."
   ]
  },
  {
   "cell_type": "code",
   "execution_count": 3,
   "metadata": {
    "code_folding": [
     9
    ]
   },
   "outputs": [
    {
     "name": "stdout",
     "output_type": "stream",
     "text": [
      "Is a root correctly found? True\n",
      "Stationary point is 0.162927\n"
     ]
    }
   ],
   "source": [
    "# --------------------------------------------------------------------------- #\n",
    "# Analytical solution\n",
    "# --------------------------------------------------------------------------- #\n",
    "def ls_compute(k, A=A, alpha=alpha, psi=psi, theta=theta):\n",
    "    \"\"\" Return the optimal labor supply \"\"\"\n",
    "    return (((1-alpha) * A * k**alpha) / (psi*theta))**(1 / (theta+alpha-1))\n",
    "\n",
    "\n",
    "def kplus_compute_analytic(\n",
    "        k, A=A, alpha=alpha, beta=beta, psi=psi, theta=theta):\n",
    "    \"\"\" Analytical solution\n",
    "    Return the optimal capital stock in the next period \"\"\"\n",
    "    _ls = ls_compute(k, A, alpha, psi, theta)\n",
    "    return alpha * beta * A * k**alpha * _ls**(1-alpha)\n",
    "\n",
    "\n",
    "def c_compute_analytic(k, A=A, alpha=alpha, beta=beta, psi=psi, theta=theta):\n",
    "    \"\"\" Analytical solution\n",
    "    Return the optimal consumption policy \"\"\"\n",
    "    _ls = ls_compute(k, A, alpha, psi, theta)\n",
    "    return (1 - alpha*beta)*A*k**alpha*_ls**(1-alpha)\n",
    "\n",
    "\n",
    "def k_infty_compute(k_infty):\n",
    "    \"\"\" Compute the stationary point in capital \"\"\"\n",
    "    return k_infty - kplus_compute_analytic(k_infty)\n",
    "\n",
    "\n",
    "# Find the stationary point\n",
    "res = root(k_infty_compute, x0=1, method='hybr')\n",
    "print(\"Is a root correctly found? {}\".format(res.success))\n",
    "print(\"Stationary point is {:5f}\".format(res.x[0]))"
   ]
  },
  {
   "cell_type": "code",
   "execution_count": 4,
   "metadata": {},
   "outputs": [
    {
     "data": {
      "image/png": "[encoded data removed]",
      "text/plain": [
       "<Figure size 432x288 with 1 Axes>"
      ]
     },
     "metadata": {
      "needs_background": "light"
     },
     "output_type": "display_data"
    },
    {
     "data": {
      "image/png": "[encoded data removed]",
      "text/plain": [
       "<Figure size 432x288 with 1 Axes>"
      ]
     },
     "metadata": {
      "needs_background": "light"
     },
     "output_type": "display_data"
    }
   ],
   "source": [
    "# --------------------------------------------------------------------------- #\n",
    "# Plot the initial guess\n",
    "# --------------------------------------------------------------------------- #\n",
    "kbeg, kend = 0.05, 0.2\n",
    "grid_plt = 250\n",
    "kgrid_plt = np.linspace(kbeg, kend, grid_plt)\n",
    "\n",
    "# Plot the kplus policy function\n",
    "plt.plot(kgrid_plt, kplus_compute_analytic(kgrid_plt))\n",
    "plt.plot(kgrid_plt, kgrid_plt, 'k:')\n",
    "plt.xlabel(r'$K_{t}$')\n",
    "plt.ylabel(r'$K_{t+1}$')\n",
    "plt.xlim([kbeg, kend])\n",
    "plt.ylim([0, None])\n",
    "plt.show()\n",
    "\n",
    "# Plot the consumption policy function\n",
    "plt.plot(kgrid_plt, c_compute_analytic(kgrid_plt))\n",
    "plt.xlabel(r'$K_{t}$')\n",
    "plt.ylabel(r'$C_{t}$')\n",
    "plt.xlim([kbeg, kend])\n",
    "plt.ylim([0, None])\n",
    "plt.show()"
   ]
  },
  {
   "cell_type": "markdown",
   "metadata": {},
   "source": [
    "## Time iteration collocation with the Gaussian process\n",
    "\n",
    "Here we aim to numerically solve the neoclassical growth model with the Gaussian process regression. Firstly, we solve the model for the first-order conditions:\n",
    "\n",
    "\\begin{align}\n",
    "& \\lambda_{t} - \\beta \\lambda_{t+1} \\alpha A K_{t+1}^{\\alpha-1}N_{t+1}^{1-\\alpha} = 0 \\label{eq:foc_kplus}\\\\\n",
    "& A K_{t}^{\\alpha}N_{t}^{1-\\alpha} - C_{t} - K_{t+1} = 0 \\label{eq:foc_rsc}\n",
    "\\end{align}\n",
    "\n",
    "where $\\lambda_{t}$ is the Lagrange multiplier associated with the resource constraint. By substituting \\eqref{eq:foc_rsc} to \\eqref{eq:foc_kplus}, our task is to solve the equation for the Lagrange multiplier. Note that the resource constraint is always binding as the marginal utility is positive, the corresponding Lagrange multiplier $\\lambda_{t}$ always takes a positive value.\n",
    "\n",
    "Hereafter, we solve the system of non-linear equation by using the time iteration collocation.We at first instantiate and initialize the Gaussian process regressor."
   ]
  },
  {
   "cell_type": "code",
   "execution_count": 5,
   "metadata": {},
   "outputs": [],
   "source": [
    "# --------------------------------------------------------------------------- #\n",
    "# Gaussian process, training and test dataset\n",
    "# --------------------------------------------------------------------------- #\n",
    "num_train = 25  # Number of training samples\n",
    "num_test = 1000  # Number of test samples\n",
    "\n",
    "# Training datasets, assuming a uniform distribution\n",
    "train_x = torch.linspace(kbeg, kend, num_train, dtype=torch.float64)\n",
    "train_y_kplus = train_x\n",
    "\n",
    "# Test datasets\n",
    "test_x = torch.linspace(kbeg, kend, num_test, dtype=torch.float64)"
   ]
  },
  {
   "cell_type": "markdown",
   "metadata": {},
   "source": [
    "### Gaussian process regression\n",
    "\n",
    "We use the RBF kernel and instantiate the Gaussian process."
   ]
  },
  {
   "cell_type": "code",
   "execution_count": 6,
   "metadata": {},
   "outputs": [],
   "source": [
    "# --------------------------------------------------------------------------- #\n",
    "# Train the model hyperparameters\n",
    "# --------------------------------------------------------------------------- #\n",
    "def TrainGPModel(\n",
    "        train_X, train_y_kplus, learning_rate, training_iter, print_skip):\n",
    "    \"\"\"\n",
    "    Train the Gaussian process and optimize the model hyperparameters\n",
    "    Use the torch.optim.Adam optimizer\n",
    "    train_X.shape == [n, d]\n",
    "    train_y_kplus.shape == [n]\n",
    "    train_y_kplus is z-scored\n",
    "    \"\"\"\n",
    "    # ----------------------------------------------------------------------- #\n",
    "    # Instantiate and initialize the Gaussian process\n",
    "    # ----------------------------------------------------------------------- #\n",
    "    class ExactGPModel(gpytorch.models.ExactGP):\n",
    "        def __init__(self, train_x, train_y, likelihood):\n",
    "            super(ExactGPModel, self).__init__(train_x, train_y, likelihood)\n",
    "            self.mean_module = gpytorch.means.ConstantMean()\n",
    "            self.covar_module = gpytorch.kernels.ScaleKernel(\n",
    "                gpytorch.kernels.RBFKernel())\n",
    "\n",
    "        def forward(self, x):\n",
    "            mean_x = self.mean_module(x)\n",
    "            covar_x = self.covar_module(x)\n",
    "            return gpytorch.distributions.MultivariateNormal(mean_x, covar_x)\n",
    "\n",
    "    # Initialize likelihood and model\n",
    "    likelihood = gpytorch.likelihoods.GaussianLikelihood()\n",
    "    gp_kplus = ExactGPModel(train_X, train_y_kplus, likelihood)\n",
    "\n",
    "    # ----------------------------------------------------------------------- #\n",
    "    # Find the optimal model hyperparameters\n",
    "    # Use the Adam optimizer\n",
    "    # ----------------------------------------------------------------------- #\n",
    "    gp_kplus.train()\n",
    "    likelihood.train()\n",
    "\n",
    "    # Use the Adam optimizer\n",
    "    optimizer = torch.optim.Adam([\n",
    "        # Includes GaussianLikelihood parameters\n",
    "        {'params': gp_kplus.parameters()}, ], lr=learning_rate)\n",
    "\n",
    "    # Loss for GP - the marginal log likelihood\n",
    "    mll = gpytorch.mlls.ExactMarginalLogLikelihood(likelihood, gp_kplus)\n",
    "\n",
    "    for i in range(training_iter):\n",
    "        # Zero gradients from previous iteration\n",
    "        optimizer.zero_grad()\n",
    "        # Output from model\n",
    "        output = gp_kplus(train_X)\n",
    "        # Calculate the  loss and backprop gradients\n",
    "        loss = - mll(output, train_y_kplus)\n",
    "        loss.backward()\n",
    "        if print_skip != 0 and (i+1) % print_skip == 0:\n",
    "            print(\n",
    "                'Iter %d/%d - Loss: %.3f - lengthscale: %.3f - noise: %.3f' % (\n",
    "                    i + 1, training_iter, loss.item(),\n",
    "                    gp_kplus.covar_module.base_kernel.lengthscale.item(),\n",
    "                    gp_kplus.likelihood.noise.item()\n",
    "                )\n",
    "            )\n",
    "        optimizer.step()\n",
    "\n",
    "    return gp_kplus, likelihood"
   ]
  },
  {
   "cell_type": "markdown",
   "metadata": {},
   "source": [
    "then we take the z-score of outputs."
   ]
  },
  {
   "cell_type": "code",
   "execution_count": 7,
   "metadata": {},
   "outputs": [],
   "source": [
    "def mean_std(train_y):\n",
    "    \"\"\"\n",
    "    Compute the mean and the standard deviation of the output train_y\n",
    "    train_y: Original output (torch.tensor)\n",
    "    return mean (torch.tensor) and standard deviation (torch.tensor)\n",
    "    \"\"\"\n",
    "    return train_y.mean(-1, keepdim=True), train_y.std(-1, keepdim=True)\n",
    "\n",
    "\n",
    "def z_score(train_y):\n",
    "    \"\"\"\n",
    "    Take a z-score (standardaization)\n",
    "    train_y: Original output (torch.tensor)\n",
    "    return zscored output (torch.tensor)\n",
    "    \"\"\"\n",
    "    train_y_mean, train_y_std = mean_std(train_y)\n",
    "    return (train_y - train_y_mean) / train_y_std\n",
    "\n",
    "\n",
    "def scale_back(train_y, train_y_zscore):\n",
    "    \"\"\"\n",
    "    Scale back to the original output\n",
    "    train_y: Original output (torch.tensor)\n",
    "    train_y_zscore: z-score output (torch.tensor)\n",
    "    return scaled-backed output (torch.tensor)\n",
    "    \"\"\"\n",
    "    train_y_mean, train_y_std = mean_std(train_y)\n",
    "    return train_y_zscore * train_y_std + train_y_mean"
   ]
  },
  {
   "cell_type": "markdown",
   "metadata": {},
   "source": [
    "We optimize the hyperparameters by the `PyTorch`'s gradient decent optimizer `adam`."
   ]
  },
  {
   "cell_type": "code",
   "execution_count": 8,
   "metadata": {},
   "outputs": [
    {
     "name": "stdout",
     "output_type": "stream",
     "text": [
      "Iter 50/1000 - Loss: -0.859 - lengthscale: 0.152 - noise: 0.011\n",
      "Iter 100/1000 - Loss: -2.562 - lengthscale: 0.298 - noise: 0.000\n",
      "Iter 150/1000 - Loss: -2.786 - lengthscale: 0.219 - noise: 0.000\n",
      "Iter 200/1000 - Loss: -2.817 - lengthscale: 0.252 - noise: 0.000\n",
      "Iter 250/1000 - Loss: -2.834 - lengthscale: 0.301 - noise: 0.000\n",
      "Iter 300/1000 - Loss: -2.862 - lengthscale: 0.448 - noise: 0.000\n",
      "Iter 350/1000 - Loss: -2.876 - lengthscale: 0.462 - noise: 0.000\n",
      "Iter 400/1000 - Loss: -2.886 - lengthscale: 0.477 - noise: 0.000\n",
      "Iter 450/1000 - Loss: -2.894 - lengthscale: 0.490 - noise: 0.000\n",
      "Iter 500/1000 - Loss: -2.900 - lengthscale: 0.501 - noise: 0.000\n",
      "Iter 550/1000 - Loss: -2.904 - lengthscale: 0.511 - noise: 0.000\n",
      "Iter 600/1000 - Loss: -2.908 - lengthscale: 0.520 - noise: 0.000\n",
      "Iter 650/1000 - Loss: -2.912 - lengthscale: 0.528 - noise: 0.000\n",
      "Iter 700/1000 - Loss: -2.915 - lengthscale: 0.535 - noise: 0.000\n",
      "Iter 750/1000 - Loss: -2.917 - lengthscale: 0.543 - noise: 0.000\n",
      "Iter 800/1000 - Loss: -2.920 - lengthscale: 0.549 - noise: 0.000\n",
      "Iter 850/1000 - Loss: -2.922 - lengthscale: 0.556 - noise: 0.000\n",
      "Iter 900/1000 - Loss: -2.924 - lengthscale: 0.562 - noise: 0.000\n",
      "Iter 950/1000 - Loss: -2.925 - lengthscale: 0.567 - noise: 0.000\n",
      "Iter 1000/1000 - Loss: -2.927 - lengthscale: 0.573 - noise: 0.000\n"
     ]
    }
   ],
   "source": [
    "train_y_kplus_zscore = z_score(train_y_kplus)\n",
    "gp_kplus, likelihood = TrainGPModel(\n",
    "    train_x, train_y_kplus_zscore, learning_rate=0.1, training_iter=1000,\n",
    "    print_skip=50)"
   ]
  },
  {
   "cell_type": "markdown",
   "metadata": {},
   "source": [
    "Then plot the posterior distributions."
   ]
  },
  {
   "cell_type": "code",
   "execution_count": 9,
   "metadata": {},
   "outputs": [
    {
     "data": {
      "image/png": "[encoded data removed]",
      "text/plain": [
       "<Figure size 504x360 with 1 Axes>"
      ]
     },
     "metadata": {
      "needs_background": "light"
     },
     "output_type": "display_data"
    }
   ],
   "source": [
    "# --------------------------------------------------------------------------- #\n",
    "# Plot the posterior distirubtion with the hyperparameters optimization\n",
    "# --------------------------------------------------------------------------- #\n",
    "# Get into evaluation (predictive posterior) mode\n",
    "gp_kplus.eval()\n",
    "likelihood.eval()\n",
    "\n",
    "# Make predictions by feeding model through likelihood\n",
    "with torch.no_grad(), gpytorch.settings.fast_pred_var():\n",
    "    plot_x = torch.linspace(kbeg, kend, 50, dtype=torch.float64)\n",
    "    pred_kplus = likelihood(gp_kplus(plot_x))\n",
    "\n",
    "# sys.exit(0)\n",
    "with torch.no_grad():\n",
    "    # Initialize plot for kplus\n",
    "    fig, ax = plt.subplots(1, 1, figsize=(7, 5))\n",
    "\n",
    "    # Get upper and lower confidence bounds\n",
    "    lower, upper = pred_kplus.confidence_region()\n",
    "    lower = scale_back(train_y_kplus, lower)\n",
    "    upper = scale_back(train_y_kplus, upper)\n",
    "    # Plot training data as black stars\n",
    "    ax.plot(train_x.numpy(), train_y_kplus.numpy(), 'k*')\n",
    "    # Plot predictive means as blue line\n",
    "    pred_kplus = scale_back(train_y_kplus, pred_kplus.mean)\n",
    "    ax.plot(plot_x.numpy(), pred_kplus.numpy(), 'b')\n",
    "    # Shade between the lower and upper confidence bounds\n",
    "    ax.fill_between(plot_x.numpy(), lower.numpy(), upper.numpy(), alpha=0.5)\n",
    "    ax.set_xlim([kbeg, kend])\n",
    "    ax.set_ylim([0, None])\n",
    "    ax.set_xlabel(r\"$K_{t}$\")\n",
    "    ax.set_ylabel(r\"$K_{t+1}$\")\n",
    "    ax.legend(['Observed Data', 'Mean', 'Confidence'])\n",
    "    plt.show()"
   ]
  },
  {
   "cell_type": "markdown",
   "metadata": {},
   "source": [
    "## Define the equilibrium conditions"
   ]
  },
  {
   "cell_type": "code",
   "execution_count": 10,
   "metadata": {},
   "outputs": [],
   "source": [
    "# --------------------------------------------------------------------------- #\n",
    "# Equilibrium conditions\n",
    "# --------------------------------------------------------------------------- #\n",
    "def euler(x0, k, gp_kplus, likelihood, train_y_org):\n",
    "    \"\"\"\n",
    "    Set of a non-linear equilibrium condition solved by IPOPT + pyipopt\n",
    "    Jacobian is supplied via the automatic gradient of PyTorch\n",
    "    Hessian is approximated by the IPOPT's limited memory option\n",
    "    x0: Starting values for the optimization\n",
    "    k: Current capital state\n",
    "    gp_kplus, likelihood: Gaussian process regression model (GPyTorch)\n",
    "    train_y_org: Original traininig outputs because the output is z-scored\n",
    "    x[0]: Capital stock in the next period\n",
    "    \"\"\"\n",
    "\n",
    "    nvar = 1  # Number of a variable\n",
    "\n",
    "    # All of plicies are assumed to be non-negative\n",
    "    x_L = np.zeros(nvar, dtype=np.float64)\n",
    "    x_U = np.ones(nvar, dtype=np.float64) * 1000\n",
    "\n",
    "    def eval_f(x):\n",
    "        \"\"\" Dummy objective function \"\"\"\n",
    "        assert len(x) == nvar\n",
    "        return 0\n",
    "\n",
    "    def eval_grad_f(x):\n",
    "        \"\"\" Gradient of the dummy objective function \"\"\"\n",
    "        assert len(x) == nvar\n",
    "        grad_f = np.zeros(nvar, dtype=np.float64)\n",
    "        return grad_f\n",
    "\n",
    "    def ls_compute(k):\n",
    "        \"\"\" Return the optimal labor supply \"\"\"\n",
    "        return (((1-alpha) * A * k**alpha) / (psi*theta))**(\n",
    "            1 / (theta+alpha-1))\n",
    "\n",
    "    # Labor supply today\n",
    "    ls = ls_compute(k)\n",
    "\n",
    "    ncon = nvar  # Number of a constraint\n",
    "\n",
    "    \"\"\" Equilibrium condition\n",
    "    g0: Euler equation wrt. k_{t+1}\n",
    "    \"\"\"\n",
    "\n",
    "    g_L = np.zeros(ncon, dtype=np.float64)\n",
    "    g_U = g_L\n",
    "\n",
    "    nnzj = int(nvar * ncon)  # Number of (possibly) non-zeros in Jacobian\n",
    "    nnzh = int((nvar**2 - nvar) / 2 + nvar)  # Number of non-zeros in Hessian\n",
    "\n",
    "    def eval_g_tensor(x):\n",
    "        \"\"\"\n",
    "        The system of non-linear equilibrium conditions\n",
    "        PyTorch version\n",
    "        \"\"\"\n",
    "        assert len(x) == nvar\n",
    "\n",
    "        # Consumption today\n",
    "        con = A * k**alpha * ls**(1-alpha) - x[0]\n",
    "\n",
    "        # Labor supply tomorrow\n",
    "        ls_plus = ls_compute(x[0])\n",
    "\n",
    "        # Capital stock in the day after tomorrow\n",
    "        if type(x) is torch.Tensor:\n",
    "            k_plusplus = likelihood(gp_kplus(x[None, :][0])).mean\n",
    "        elif type(x) is np.ndarray:\n",
    "            k_plusplus = likelihood(gp_kplus(torch.tensor(\n",
    "                [x[0]], dtype=torch.float64)[None, :])).mean\n",
    "        else:\n",
    "            raise TypeError(\"x shold be either torch.Tensor or np.ndarray\")\n",
    "\n",
    "        # Scale back to the original output range\n",
    "        k_plusplus = scale_back(train_y_org, k_plusplus)\n",
    "\n",
    "        # Consumption tomorrow\n",
    "        con_plus = A * x[0]**alpha * ls_plus**(1-alpha) - k_plusplus\n",
    "\n",
    "        # ------------------------------------------------------------------- #\n",
    "        # Euler equation\n",
    "        # ------------------------------------------------------------------- #\n",
    "        g0 = 1/con - beta * alpha * 1/con_plus * A * x[0]**(alpha-1) \\\n",
    "            * ls_plus**(1-alpha)\n",
    "\n",
    "        return [g0]\n",
    "\n",
    "    def eval_g_numpy(x):\n",
    "        \"\"\" Convert from Tensor to numpy so that IPOPT can handle \"\"\"\n",
    "        return np.array(eval_g_tensor(x), dtype=np.float64)\n",
    "\n",
    "    def eval_jac_g(x, flag):\n",
    "        \"\"\"\n",
    "        Jacobian of the system of non-linear equilibrium conditions\n",
    "        Automatic differenciation provided by PyTorch\n",
    "        \"\"\"\n",
    "        assert len(x) == nvar\n",
    "\n",
    "        row_idx = np.empty(nnzj, dtype=int)  # Row index\n",
    "        col_idx = np.empty(nnzj, dtype=int)  # Column index\n",
    "\n",
    "        # Jacobian matrix structure\n",
    "        if flag:\n",
    "            for i in range(ncon):\n",
    "                for j in range(nvar):\n",
    "                    row_idx[j + i * nvar] = i\n",
    "                    col_idx[j + i * nvar] = j\n",
    "\n",
    "            return (row_idx, col_idx)\n",
    "\n",
    "        else:\n",
    "            # Automatic gradient by PyTorch\n",
    "            assert len(x) == nvar\n",
    "            x_grad = torch.tensor(x, requires_grad=True)\n",
    "            jac = []\n",
    "            for i in range(ncon):\n",
    "                grad, = torch.autograd.grad(eval_g_tensor(x_grad)[i], x_grad)\n",
    "                jac.append(grad)\n",
    "            return torch.stack(jac).flatten().numpy()\n",
    "\n",
    "    # ----------------------------------------------------------------------- #\n",
    "    # Define a NLP model\n",
    "    # ----------------------------------------------------------------------- #\n",
    "    pyipopt.set_loglevel(0)  # Let IPOPT quite\n",
    "\n",
    "    neoclassical = pyipopt.create(\n",
    "        nvar, x_L, x_U, ncon, g_L, g_U, nnzj, nnzh, eval_f, eval_grad_f,\n",
    "        eval_g_numpy, eval_jac_g)\n",
    "    neoclassical.str_option(\"linear_solver\", \"ma57\")\n",
    "    neoclassical.str_option(\"hessian_approximation\", \"limited-memory\")\n",
    "    # neoclassical.str_option(\"derivative_test\", \"first-order\")  # Pass!\n",
    "    neoclassical.int_option(\"print_level\", 1)\n",
    "\n",
    "    xstar, zl, zu, constraint_multipliers, obj, status = neoclassical.solve(x0)\n",
    "\n",
    "    if status not in [0, 1]:\n",
    "        warnings.warn(\n",
    "            \"IPOPT fails to solve the system of non-linear equations. \"\n",
    "            \"Use the starting value as the solution instead.\")\n",
    "        xstar = x0\n",
    "    return xstar"
   ]
  },
  {
   "cell_type": "markdown",
   "metadata": {},
   "source": [
    "Then we numerically approximate the policy function using the time iteration collocation with the Gaussian process."
   ]
  },
  {
   "cell_type": "code",
   "execution_count": 11,
   "metadata": {},
   "outputs": [],
   "source": [
    "# --------------------------------------------------------------------------- #\n",
    "# Time iteration collocation with the Gaussian process regression\n",
    "# --------------------------------------------------------------------------- #\n",
    "def time_iter_gp(num_train, training_iter):\n",
    "    \"\"\"\n",
    "    Time iteration collocation with the Gaussian process regression\n",
    "    num_train: Number of training examples\n",
    "    training_iter: Number of training iterations\n",
    "    \"\"\"\n",
    "    num_iter = 500  # Maximum number of time iterations\n",
    "    epsilons = []  # Track the approximation error\n",
    "    epsilon_tol = 1e-6  # Convergence tolrance\n",
    "\n",
    "    # ----------------------------------------------------------------------- #\n",
    "    # Generate a training dataset, uniform distribution\n",
    "    # ----------------------------------------------------------------------- #\n",
    "    train_x = torch.linspace(kbeg, kend, num_train, dtype=torch.float64)\n",
    "    train_y_kplus = train_x  # Initial guess\n",
    "    # Z-score\n",
    "    train_y_kplus_zscore = z_score(train_y_kplus)\n",
    "    # ----------------------------------------------------------------------- #\n",
    "    # Instantiate and train the Gaussian processes with the z-scored output\n",
    "    # ----------------------------------------------------------------------- #\n",
    "    gp_kplus, likelihood = TrainGPModel(\n",
    "        train_x, train_y_kplus_zscore, learning_rate=0.1, training_iter=1000,\n",
    "        print_skip=50)\n",
    "\n",
    "    # sys.exit(0)\n",
    "    # ----------------------------------------------------------------------- #\n",
    "    # Time iteration collocation\n",
    "    # ----------------------------------------------------------------------- #\n",
    "    for n in range(1, num_iter+1):\n",
    "        # Get into evaluation (predictive posterior) mode\n",
    "        gp_kplus.eval()\n",
    "        likelihood.eval()\n",
    "\n",
    "        # Keep the original value range\n",
    "        train_y_kplus_org = train_y_kplus\n",
    "\n",
    "        # Starting value retliving from the previous optimization\n",
    "        x0 = train_y_kplus.numpy()[:, None]\n",
    "\n",
    "        # Track the optimal policies\n",
    "        train_y_kplus = np.empty_like(train_y_kplus)\n",
    "\n",
    "        for idx, k in enumerate(train_x.numpy()):\n",
    "            # For each state, solve the system of non-linear equations\n",
    "            xstar = euler(x0[idx], k, gp_kplus, likelihood, train_y_kplus_org)\n",
    "            # Track the optimal policies\n",
    "            train_y_kplus[idx] = xstar\n",
    "            # sys.exit(0)\n",
    "        # ------------------------------------------------------------------- #\n",
    "        # Train the Gaussian process with the optimal policy\n",
    "        # ------------------------------------------------------------------- #\n",
    "        # Training data before taking z-score\n",
    "        train_y_kplus = torch.from_numpy(train_y_kplus)\n",
    "        # Z-scored output\n",
    "        train_y_kplus_zscore = z_score(train_y_kplus)\n",
    "        # Training\n",
    "        gp_kplus_updated, likelihood_updated = TrainGPModel(\n",
    "            train_x, train_y_kplus_zscore, learning_rate=0.1,\n",
    "            training_iter=1000, print_skip=0)\n",
    "\n",
    "        # ------------------------------------------------------------------- #\n",
    "        # Approximation error analysis\n",
    "        # Update the policy functions for the next iteration\n",
    "        # ------------------------------------------------------------------- #\n",
    "        # Switch to the evaluation mode\n",
    "        gp_kplus.eval()\n",
    "        gp_kplus_updated.eval()\n",
    "        likelihood.eval()\n",
    "        likelihood_updated.eval()\n",
    "\n",
    "        # Make predictions by feeding model through likelihood\n",
    "        with torch.no_grad(), gpytorch.settings.fast_pred_var():\n",
    "            pred = likelihood(gp_kplus(test_x))\n",
    "            pred_update = likelihood_updated(gp_kplus_updated(test_x))\n",
    "\n",
    "            epsilon = np.max(np.abs(\n",
    "                pred.mean.numpy() - pred_update.mean.numpy()))\n",
    "        epsilons.append(epsilon)  # Track the history of epsilon\n",
    "\n",
    "        if n % 1 == 0:\n",
    "            print('Iteration: {}, Approximation error: {:.3e}'.format(\n",
    "                n, epsilons[-1]))\n",
    "\n",
    "        if epsilons[-1] < epsilon_tol:\n",
    "            # Terminate the time iteration and save the optimal surrogates\n",
    "            gp_kplus_star = gp_kplus_updated\n",
    "            likelihood_star = likelihood_updated\n",
    "            train_y_kplus_last = train_y_kplus_org\n",
    "            print(\"Time iteration collocation is terminated successfuly with \"\n",
    "                  \"{} iterations\".format(n))\n",
    "            break  # Terminate the iteration\n",
    "\n",
    "        else:\n",
    "            # Update the GP with the surrogates\n",
    "            gp_kplus = gp_kplus_updated\n",
    "            likelihood = likelihood_updated\n",
    "            \n",
    "    return epsilons, gp_kplus_star, likelihood_star, train_y_kplus_last"
   ]
  },
  {
   "cell_type": "markdown",
   "metadata": {},
   "source": [
    "Now suppose that there are 25 training samples:"
   ]
  },
  {
   "cell_type": "code",
   "execution_count": 12,
   "metadata": {},
   "outputs": [
    {
     "name": "stdout",
     "output_type": "stream",
     "text": [
      "Iter 50/1000 - Loss: -0.859 - lengthscale: 0.152 - noise: 0.011\n",
      "Iter 100/1000 - Loss: -2.562 - lengthscale: 0.298 - noise: 0.000\n",
      "Iter 150/1000 - Loss: -2.786 - lengthscale: 0.219 - noise: 0.000\n",
      "Iter 200/1000 - Loss: -2.817 - lengthscale: 0.252 - noise: 0.000\n",
      "Iter 250/1000 - Loss: -2.834 - lengthscale: 0.301 - noise: 0.000\n",
      "Iter 300/1000 - Loss: -2.862 - lengthscale: 0.448 - noise: 0.000\n",
      "Iter 350/1000 - Loss: -2.876 - lengthscale: 0.462 - noise: 0.000\n",
      "Iter 400/1000 - Loss: -2.886 - lengthscale: 0.477 - noise: 0.000\n",
      "Iter 450/1000 - Loss: -2.894 - lengthscale: 0.490 - noise: 0.000\n",
      "Iter 500/1000 - Loss: -2.900 - lengthscale: 0.501 - noise: 0.000\n",
      "Iter 550/1000 - Loss: -2.904 - lengthscale: 0.511 - noise: 0.000\n",
      "Iter 600/1000 - Loss: -2.908 - lengthscale: 0.520 - noise: 0.000\n",
      "Iter 650/1000 - Loss: -2.912 - lengthscale: 0.528 - noise: 0.000\n",
      "Iter 700/1000 - Loss: -2.915 - lengthscale: 0.535 - noise: 0.000\n",
      "Iter 750/1000 - Loss: -2.917 - lengthscale: 0.543 - noise: 0.000\n",
      "Iter 800/1000 - Loss: -2.920 - lengthscale: 0.549 - noise: 0.000\n",
      "Iter 850/1000 - Loss: -2.922 - lengthscale: 0.556 - noise: 0.000\n",
      "Iter 900/1000 - Loss: -2.924 - lengthscale: 0.562 - noise: 0.000\n",
      "Iter 950/1000 - Loss: -2.925 - lengthscale: 0.567 - noise: 0.000\n",
      "Iter 1000/1000 - Loss: -2.927 - lengthscale: 0.573 - noise: 0.000\n",
      "Iteration: 1, Approximation error: 9.910e-02\n",
      "Iteration: 2, Approximation error: 3.778e-02\n",
      "Iteration: 3, Approximation error: 8.601e-03\n",
      "Iteration: 4, Approximation error: 1.699e-03\n",
      "Iteration: 5, Approximation error: 3.265e-04\n",
      "Iteration: 6, Approximation error: 6.350e-05\n",
      "Iteration: 7, Approximation error: 1.263e-05\n",
      "Iteration: 8, Approximation error: 2.563e-06\n",
      "Iteration: 9, Approximation error: 5.406e-07\n",
      "Time iteration collocation is terminated successfuly with 9 iterations\n"
     ]
    }
   ],
   "source": [
    "%timeit\n",
    "# --------------------------------------------------------------------------- #\n",
    "# num_train = 30, training_iter = 250\n",
    "# --------------------------------------------------------------------------- #\n",
    "epsilons, gp_kplus_star, likelihood_star, train_y_kplus_last \\\n",
    "    = time_iter_gp(25, 250)"
   ]
  },
  {
   "cell_type": "markdown",
   "metadata": {},
   "source": [
    "Finally we plot the convergence process as well as the posterior distributions. We compare the numerically approximated policy functions with the analytical solutions."
   ]
  },
  {
   "cell_type": "code",
   "execution_count": 13,
   "metadata": {},
   "outputs": [
    {
     "data": {
      "image/png": "[encoded data removed]",
      "text/plain": [
       "<Figure size 432x288 with 1 Axes>"
      ]
     },
     "metadata": {
      "needs_background": "light"
     },
     "output_type": "display_data"
    },
    {
     "data": {
      "image/png": "[encoded data removed]",
      "text/plain": [
       "<Figure size 504x360 with 1 Axes>"
      ]
     },
     "metadata": {
      "needs_background": "light"
     },
     "output_type": "display_data"
    }
   ],
   "source": [
    "# --------------------------------------------------------------------------- #\n",
    "# Plot\n",
    "# --------------------------------------------------------------------------- #\n",
    "# Approximation error\n",
    "plt.plot(epsilons)\n",
    "plt.yscale('log')\n",
    "plt.xlabel(\"Number of iterations\")\n",
    "plt.ylabel(\"Max approximation error\")\n",
    "plt.xlim([0, None])\n",
    "plt.show()\n",
    "\n",
    "# Turn on the evaluation mode to plot the policy functinos\n",
    "gp_kplus_star.eval()\n",
    "likelihood_star.eval()\n",
    "\n",
    "# Make predictions by feeding model through likelihood\n",
    "with torch.no_grad(), gpytorch.settings.fast_pred_var():\n",
    "    plot_x = torch.linspace(kbeg, kend, 50, dtype=torch.float64)\n",
    "    pred = likelihood_star(gp_kplus_star(plot_x))\n",
    "    kplus_star_mu = pred.mean  # Z-scored value\n",
    "    kplus_star_mu = scale_back(train_y_kplus_last, kplus_star_mu)\n",
    "    kplus_lower, kplus_upper = pred.confidence_region()  # Z-scored value\n",
    "    kplus_lower = scale_back(train_y_kplus_last, kplus_lower)\n",
    "    kplus_upper = scale_back(train_y_kplus_last, kplus_upper)\n",
    "\n",
    "with torch.no_grad():\n",
    "    # Initialize plot for kplus_star\n",
    "    fig, ax = plt.subplots(1, 1, figsize=(7, 5))\n",
    "    # Plot the predicted mean\n",
    "    ax.plot(plot_x.numpy(), kplus_star_mu, 'k-', label=r'Mean')\n",
    "    # Shade between the lower and upper confidence bounds\n",
    "    ax.fill_between(plot_x.numpy(), kplus_lower.numpy(), kplus_upper.numpy(),\n",
    "                    alpha=0.4, label=r'Confidence')\n",
    "    ax.plot(plot_x.numpy(), kplus_compute_analytic(plot_x.numpy()),\n",
    "            label=r'True')\n",
    "    ax.set_xlim([kbeg, kend])\n",
    "    ax.set_ylim([0, None])\n",
    "    ax.set_xlabel(r\"$K_{t}$\")\n",
    "    ax.set_ylabel(r\"$K_{t+1}$\")\n",
    "    ax.legend(loc='best')\n",
    "    plt.show()"
   ]
  },
  {
   "cell_type": "code",
   "execution_count": null,
   "metadata": {},
   "outputs": [],
   "source": []
  }
 ],
 "metadata": {
  "kernelspec": {
   "display_name": "Python 3",
   "language": "python",
   "name": "python3"
  },
  "language_info": {
   "codemirror_mode": {
    "name": "ipython",
    "version": 3
   },
   "file_extension": ".py",
   "mimetype": "text/x-python",
   "name": "python",
   "nbconvert_exporter": "python",
   "pygments_lexer": "ipython3",
   "version": "3.7.6"
  },
  "toc": {
   "base_numbering": 1,
   "nav_menu": {},
   "number_sections": true,
   "sideBar": true,
   "skip_h1_title": false,
   "title_cell": "Table of Contents",
   "title_sidebar": "Contents",
   "toc_cell": false,
   "toc_position": {},
   "toc_section_display": true,
   "toc_window_display": false
  }
 },
 "nbformat": 4,
 "nbformat_minor": 2
}
